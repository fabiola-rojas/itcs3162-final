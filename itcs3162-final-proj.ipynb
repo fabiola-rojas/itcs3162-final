{
 "cells": [
  {
   "cell_type": "markdown",
   "id": "f253df0a-c598-4383-a76d-ee5f39362df5",
   "metadata": {},
   "source": [
    "## Data Understanding and Pre-Processing"
   ]
  },
  {
   "cell_type": "code",
   "execution_count": 2,
   "id": "c71d1636-48ce-4d24-be0a-d2e26d1b9f7b",
   "metadata": {},
   "outputs": [],
   "source": [
    "import pandas as pd"
   ]
  },
  {
   "cell_type": "code",
   "execution_count": 3,
   "id": "e4fb3cff-bfee-4675-9670-80b5a6fcf756",
   "metadata": {},
   "outputs": [
    {
     "data": {
      "text/html": [
       "<div>\n",
       "<style scoped>\n",
       "    .dataframe tbody tr th:only-of-type {\n",
       "        vertical-align: middle;\n",
       "    }\n",
       "\n",
       "    .dataframe tbody tr th {\n",
       "        vertical-align: top;\n",
       "    }\n",
       "\n",
       "    .dataframe thead th {\n",
       "        text-align: right;\n",
       "    }\n",
       "</style>\n",
       "<table border=\"1\" class=\"dataframe\">\n",
       "  <thead>\n",
       "    <tr style=\"text-align: right;\">\n",
       "      <th></th>\n",
       "      <th>Company</th>\n",
       "      <th>Date</th>\n",
       "      <th>Close/Last</th>\n",
       "      <th>Volume</th>\n",
       "      <th>Open</th>\n",
       "      <th>High</th>\n",
       "      <th>Low</th>\n",
       "    </tr>\n",
       "  </thead>\n",
       "  <tbody>\n",
       "    <tr>\n",
       "      <th>0</th>\n",
       "      <td>AAPL</td>\n",
       "      <td>07/17/2023</td>\n",
       "      <td>$193.99</td>\n",
       "      <td>50520160</td>\n",
       "      <td>$191.90</td>\n",
       "      <td>$194.32</td>\n",
       "      <td>$191.81</td>\n",
       "    </tr>\n",
       "    <tr>\n",
       "      <th>1</th>\n",
       "      <td>AAPL</td>\n",
       "      <td>07/14/2023</td>\n",
       "      <td>$190.69</td>\n",
       "      <td>41616240</td>\n",
       "      <td>$190.23</td>\n",
       "      <td>$191.1799</td>\n",
       "      <td>$189.63</td>\n",
       "    </tr>\n",
       "    <tr>\n",
       "      <th>2</th>\n",
       "      <td>AAPL</td>\n",
       "      <td>07/13/2023</td>\n",
       "      <td>$190.54</td>\n",
       "      <td>41342340</td>\n",
       "      <td>$190.50</td>\n",
       "      <td>$191.19</td>\n",
       "      <td>$189.78</td>\n",
       "    </tr>\n",
       "    <tr>\n",
       "      <th>3</th>\n",
       "      <td>AAPL</td>\n",
       "      <td>07-12-2023</td>\n",
       "      <td>$189.77</td>\n",
       "      <td>60750250</td>\n",
       "      <td>$189.68</td>\n",
       "      <td>$191.70</td>\n",
       "      <td>$188.47</td>\n",
       "    </tr>\n",
       "    <tr>\n",
       "      <th>4</th>\n",
       "      <td>AAPL</td>\n",
       "      <td>07-11-2023</td>\n",
       "      <td>$188.08</td>\n",
       "      <td>46638120</td>\n",
       "      <td>$189.16</td>\n",
       "      <td>$189.30</td>\n",
       "      <td>$186.60</td>\n",
       "    </tr>\n",
       "  </tbody>\n",
       "</table>\n",
       "</div>"
      ],
      "text/plain": [
       "  Company        Date Close/Last    Volume     Open       High      Low\n",
       "0    AAPL  07/17/2023    $193.99  50520160  $191.90    $194.32  $191.81\n",
       "1    AAPL  07/14/2023    $190.69  41616240  $190.23  $191.1799  $189.63\n",
       "2    AAPL  07/13/2023    $190.54  41342340  $190.50    $191.19  $189.78\n",
       "3    AAPL  07-12-2023    $189.77  60750250  $189.68    $191.70  $188.47\n",
       "4    AAPL  07-11-2023    $188.08  46638120  $189.16    $189.30  $186.60"
      ]
     },
     "execution_count": 3,
     "metadata": {},
     "output_type": "execute_result"
    }
   ],
   "source": [
    "df = pd.read_csv(\"/Users/fabiolarojas/Downloads/data 3.csv\")\n",
    "df.head()"
   ]
  },
  {
   "cell_type": "code",
   "execution_count": 4,
   "id": "09805ffe-3fb2-4b8b-a22c-d7116cbabde4",
   "metadata": {},
   "outputs": [
    {
     "name": "stdout",
     "output_type": "stream",
     "text": [
      "<class 'pandas.core.frame.DataFrame'>\n",
      "RangeIndex: 25160 entries, 0 to 25159\n",
      "Data columns (total 7 columns):\n",
      " #   Column      Non-Null Count  Dtype \n",
      "---  ------      --------------  ----- \n",
      " 0   Company     25160 non-null  object\n",
      " 1   Date        25160 non-null  object\n",
      " 2   Close/Last  25160 non-null  object\n",
      " 3   Volume      25160 non-null  int64 \n",
      " 4   Open        25160 non-null  object\n",
      " 5   High        25160 non-null  object\n",
      " 6   Low         25160 non-null  object\n",
      "dtypes: int64(1), object(6)\n",
      "memory usage: 1.3+ MB\n"
     ]
    }
   ],
   "source": [
    "df.info()"
   ]
  },
  {
   "cell_type": "markdown",
   "id": "de205309-62b7-44bf-8628-77df63cdd16a",
   "metadata": {},
   "source": [
    "dataset info says we should have 5 string types, 1 int type, and 1 datetime type. i think we should have 1 string type (company), 1 int type (volume), 1 datetime, and the rest should be floats (monetary values)."
   ]
  },
  {
   "cell_type": "code",
   "execution_count": 6,
   "id": "7c5b7c50-db38-4256-a9f6-260ba1d0c73d",
   "metadata": {},
   "outputs": [],
   "source": [
    "df.columns = df.columns.str.lower()"
   ]
  },
  {
   "cell_type": "code",
   "execution_count": 7,
   "id": "c3780be4-757a-4d87-bf28-e47f19a1a837",
   "metadata": {},
   "outputs": [],
   "source": [
    "df = df.rename(columns={'close/last':'close'})"
   ]
  },
  {
   "cell_type": "code",
   "execution_count": 8,
   "id": "541f45b0-8173-4b59-b6f6-cda0974a3a9b",
   "metadata": {},
   "outputs": [
    {
     "data": {
      "text/html": [
       "<div>\n",
       "<style scoped>\n",
       "    .dataframe tbody tr th:only-of-type {\n",
       "        vertical-align: middle;\n",
       "    }\n",
       "\n",
       "    .dataframe tbody tr th {\n",
       "        vertical-align: top;\n",
       "    }\n",
       "\n",
       "    .dataframe thead th {\n",
       "        text-align: right;\n",
       "    }\n",
       "</style>\n",
       "<table border=\"1\" class=\"dataframe\">\n",
       "  <thead>\n",
       "    <tr style=\"text-align: right;\">\n",
       "      <th></th>\n",
       "      <th>company</th>\n",
       "      <th>date</th>\n",
       "      <th>close</th>\n",
       "      <th>volume</th>\n",
       "      <th>open</th>\n",
       "      <th>high</th>\n",
       "      <th>low</th>\n",
       "    </tr>\n",
       "  </thead>\n",
       "  <tbody>\n",
       "    <tr>\n",
       "      <th>0</th>\n",
       "      <td>AAPL</td>\n",
       "      <td>2023-07-17</td>\n",
       "      <td>193.99</td>\n",
       "      <td>50520160</td>\n",
       "      <td>191.90</td>\n",
       "      <td>194.3200</td>\n",
       "      <td>191.81</td>\n",
       "    </tr>\n",
       "    <tr>\n",
       "      <th>1</th>\n",
       "      <td>AAPL</td>\n",
       "      <td>2023-07-14</td>\n",
       "      <td>190.69</td>\n",
       "      <td>41616240</td>\n",
       "      <td>190.23</td>\n",
       "      <td>191.1799</td>\n",
       "      <td>189.63</td>\n",
       "    </tr>\n",
       "    <tr>\n",
       "      <th>2</th>\n",
       "      <td>AAPL</td>\n",
       "      <td>2023-07-13</td>\n",
       "      <td>190.54</td>\n",
       "      <td>41342340</td>\n",
       "      <td>190.50</td>\n",
       "      <td>191.1900</td>\n",
       "      <td>189.78</td>\n",
       "    </tr>\n",
       "    <tr>\n",
       "      <th>3</th>\n",
       "      <td>AAPL</td>\n",
       "      <td>2023-07-12</td>\n",
       "      <td>189.77</td>\n",
       "      <td>60750250</td>\n",
       "      <td>189.68</td>\n",
       "      <td>191.7000</td>\n",
       "      <td>188.47</td>\n",
       "    </tr>\n",
       "    <tr>\n",
       "      <th>4</th>\n",
       "      <td>AAPL</td>\n",
       "      <td>2023-07-11</td>\n",
       "      <td>188.08</td>\n",
       "      <td>46638120</td>\n",
       "      <td>189.16</td>\n",
       "      <td>189.3000</td>\n",
       "      <td>186.60</td>\n",
       "    </tr>\n",
       "  </tbody>\n",
       "</table>\n",
       "</div>"
      ],
      "text/plain": [
       "  company       date   close    volume    open      high     low\n",
       "0    AAPL 2023-07-17  193.99  50520160  191.90  194.3200  191.81\n",
       "1    AAPL 2023-07-14  190.69  41616240  190.23  191.1799  189.63\n",
       "2    AAPL 2023-07-13  190.54  41342340  190.50  191.1900  189.78\n",
       "3    AAPL 2023-07-12  189.77  60750250  189.68  191.7000  188.47\n",
       "4    AAPL 2023-07-11  188.08  46638120  189.16  189.3000  186.60"
      ]
     },
     "execution_count": 8,
     "metadata": {},
     "output_type": "execute_result"
    }
   ],
   "source": [
    "df['company'] = df['company'].astype('string')\n",
    "\n",
    "df['date'] = pd.to_datetime(df['date'], format='mixed', errors='coerce')\n",
    "                            \n",
    "money_cols = ['close', 'open', 'high', 'low']\n",
    "for col in money_cols:\n",
    "    df[col] = df[col].replace(r'[\\$,]', '', regex=True).astype(float)\n",
    "\n",
    "df.head()"
   ]
  },
  {
   "cell_type": "markdown",
   "id": "5e0e5c4a-70f3-4a7b-bc06-4feb229880fd",
   "metadata": {},
   "source": [
    "making sure everything parsed without error (differences in formatting)"
   ]
  },
  {
   "cell_type": "code",
   "execution_count": 10,
   "id": "aafe76b1-ce87-47ae-a3fc-25e1f7442efc",
   "metadata": {},
   "outputs": [
    {
     "name": "stdout",
     "output_type": "stream",
     "text": [
      "<class 'pandas.core.frame.DataFrame'>\n",
      "RangeIndex: 25160 entries, 0 to 25159\n",
      "Data columns (total 7 columns):\n",
      " #   Column   Non-Null Count  Dtype         \n",
      "---  ------   --------------  -----         \n",
      " 0   company  25160 non-null  string        \n",
      " 1   date     25160 non-null  datetime64[ns]\n",
      " 2   close    25160 non-null  float64       \n",
      " 3   volume   25160 non-null  int64         \n",
      " 4   open     25160 non-null  float64       \n",
      " 5   high     25160 non-null  float64       \n",
      " 6   low      25160 non-null  float64       \n",
      "dtypes: datetime64[ns](1), float64(4), int64(1), string(1)\n",
      "memory usage: 1.3 MB\n"
     ]
    }
   ],
   "source": [
    "df.info()"
   ]
  },
  {
   "cell_type": "code",
   "execution_count": 11,
   "id": "b8019e81-ee4f-448f-bc59-cad8e61a12ea",
   "metadata": {},
   "outputs": [
    {
     "data": {
      "text/plain": [
       "np.int64(0)"
      ]
     },
     "execution_count": 11,
     "metadata": {},
     "output_type": "execute_result"
    }
   ],
   "source": [
    "df.duplicated().sum()"
   ]
  },
  {
   "cell_type": "code",
   "execution_count": 12,
   "id": "2dbd3a5f-9533-43d2-8b42-4bf54949a88f",
   "metadata": {},
   "outputs": [
    {
     "data": {
      "text/plain": [
       "company\n",
       "AAPL    2516\n",
       "SBUX    2516\n",
       "MSFT    2516\n",
       "CSCO    2516\n",
       "QCOM    2516\n",
       "META    2516\n",
       "AMZN    2516\n",
       "TSLA    2516\n",
       "AMD     2516\n",
       "NFLX    2516\n",
       "Name: count, dtype: Int64"
      ]
     },
     "execution_count": 12,
     "metadata": {},
     "output_type": "execute_result"
    }
   ],
   "source": [
    "df[\"company\"].value_counts()"
   ]
  },
  {
   "cell_type": "markdown",
   "id": "c5e1865a-750e-436a-9b40-ccc7450dd97f",
   "metadata": {},
   "source": [
    "there are 10 companies and an equal amount of market data for each"
   ]
  },
  {
   "cell_type": "code",
   "execution_count": 14,
   "id": "5a033464-7268-4446-bbd0-abfcbcc2dd4a",
   "metadata": {},
   "outputs": [
    {
     "data": {
      "text/html": [
       "<div>\n",
       "<style scoped>\n",
       "    .dataframe tbody tr th:only-of-type {\n",
       "        vertical-align: middle;\n",
       "    }\n",
       "\n",
       "    .dataframe tbody tr th {\n",
       "        vertical-align: top;\n",
       "    }\n",
       "\n",
       "    .dataframe thead th {\n",
       "        text-align: right;\n",
       "    }\n",
       "</style>\n",
       "<table border=\"1\" class=\"dataframe\">\n",
       "  <thead>\n",
       "    <tr style=\"text-align: right;\">\n",
       "      <th></th>\n",
       "      <th>company</th>\n",
       "      <th>date</th>\n",
       "      <th>close</th>\n",
       "      <th>volume</th>\n",
       "      <th>open</th>\n",
       "      <th>high</th>\n",
       "      <th>low</th>\n",
       "    </tr>\n",
       "  </thead>\n",
       "  <tbody>\n",
       "    <tr>\n",
       "      <th>2515</th>\n",
       "      <td>AAPL</td>\n",
       "      <td>2013-07-18</td>\n",
       "      <td>15.4199</td>\n",
       "      <td>218632537</td>\n",
       "      <td>15.4779</td>\n",
       "      <td>15.5311</td>\n",
       "      <td>15.3789</td>\n",
       "    </tr>\n",
       "    <tr>\n",
       "      <th>2514</th>\n",
       "      <td>AAPL</td>\n",
       "      <td>2013-07-19</td>\n",
       "      <td>15.1768</td>\n",
       "      <td>268548901</td>\n",
       "      <td>15.4679</td>\n",
       "      <td>15.4993</td>\n",
       "      <td>15.1554</td>\n",
       "    </tr>\n",
       "    <tr>\n",
       "      <th>2513</th>\n",
       "      <td>AAPL</td>\n",
       "      <td>2013-07-22</td>\n",
       "      <td>15.2254</td>\n",
       "      <td>207648981</td>\n",
       "      <td>15.3379</td>\n",
       "      <td>15.3482</td>\n",
       "      <td>15.1953</td>\n",
       "    </tr>\n",
       "    <tr>\n",
       "      <th>2512</th>\n",
       "      <td>AAPL</td>\n",
       "      <td>2013-07-23</td>\n",
       "      <td>14.9639</td>\n",
       "      <td>354477618</td>\n",
       "      <td>15.2143</td>\n",
       "      <td>15.2486</td>\n",
       "      <td>14.9539</td>\n",
       "    </tr>\n",
       "    <tr>\n",
       "      <th>2511</th>\n",
       "      <td>AAPL</td>\n",
       "      <td>2013-07-24</td>\n",
       "      <td>15.7325</td>\n",
       "      <td>591624923</td>\n",
       "      <td>15.6761</td>\n",
       "      <td>15.8782</td>\n",
       "      <td>15.5450</td>\n",
       "    </tr>\n",
       "    <tr>\n",
       "      <th>2510</th>\n",
       "      <td>AAPL</td>\n",
       "      <td>2013-07-25</td>\n",
       "      <td>15.6607</td>\n",
       "      <td>229432412</td>\n",
       "      <td>15.7393</td>\n",
       "      <td>15.7643</td>\n",
       "      <td>15.5646</td>\n",
       "    </tr>\n",
       "    <tr>\n",
       "      <th>2509</th>\n",
       "      <td>AAPL</td>\n",
       "      <td>2013-07-26</td>\n",
       "      <td>15.7496</td>\n",
       "      <td>200082264</td>\n",
       "      <td>15.5464</td>\n",
       "      <td>15.7514</td>\n",
       "      <td>15.5121</td>\n",
       "    </tr>\n",
       "    <tr>\n",
       "      <th>2508</th>\n",
       "      <td>AAPL</td>\n",
       "      <td>2013-07-29</td>\n",
       "      <td>15.9925</td>\n",
       "      <td>248025441</td>\n",
       "      <td>15.7429</td>\n",
       "      <td>16.0711</td>\n",
       "      <td>15.7214</td>\n",
       "    </tr>\n",
       "    <tr>\n",
       "      <th>2507</th>\n",
       "      <td>AAPL</td>\n",
       "      <td>2013-07-30</td>\n",
       "      <td>16.1900</td>\n",
       "      <td>308960556</td>\n",
       "      <td>16.0700</td>\n",
       "      <td>16.3268</td>\n",
       "      <td>16.0439</td>\n",
       "    </tr>\n",
       "    <tr>\n",
       "      <th>2506</th>\n",
       "      <td>AAPL</td>\n",
       "      <td>2013-07-31</td>\n",
       "      <td>16.1618</td>\n",
       "      <td>322499391</td>\n",
       "      <td>16.2496</td>\n",
       "      <td>16.3337</td>\n",
       "      <td>16.0511</td>\n",
       "    </tr>\n",
       "  </tbody>\n",
       "</table>\n",
       "</div>"
      ],
      "text/plain": [
       "     company       date    close     volume     open     high      low\n",
       "2515    AAPL 2013-07-18  15.4199  218632537  15.4779  15.5311  15.3789\n",
       "2514    AAPL 2013-07-19  15.1768  268548901  15.4679  15.4993  15.1554\n",
       "2513    AAPL 2013-07-22  15.2254  207648981  15.3379  15.3482  15.1953\n",
       "2512    AAPL 2013-07-23  14.9639  354477618  15.2143  15.2486  14.9539\n",
       "2511    AAPL 2013-07-24  15.7325  591624923  15.6761  15.8782  15.5450\n",
       "2510    AAPL 2013-07-25  15.6607  229432412  15.7393  15.7643  15.5646\n",
       "2509    AAPL 2013-07-26  15.7496  200082264  15.5464  15.7514  15.5121\n",
       "2508    AAPL 2013-07-29  15.9925  248025441  15.7429  16.0711  15.7214\n",
       "2507    AAPL 2013-07-30  16.1900  308960556  16.0700  16.3268  16.0439\n",
       "2506    AAPL 2013-07-31  16.1618  322499391  16.2496  16.3337  16.0511"
      ]
     },
     "execution_count": 14,
     "metadata": {},
     "output_type": "execute_result"
    }
   ],
   "source": [
    "# sort data in chronological order by company\n",
    "df = df.sort_values(by=['company', 'date'])\n",
    "df.head(10)"
   ]
  },
  {
   "cell_type": "markdown",
   "id": "5f25fb5e-0f07-460a-966d-8308d5d20074",
   "metadata": {},
   "source": [
    "## Feature Engineering"
   ]
  },
  {
   "cell_type": "code",
   "execution_count": 16,
   "id": "7c35435f-1c32-4ea9-8647-84990b598f86",
   "metadata": {},
   "outputs": [],
   "source": [
    "# difference between day's close and open prices\n",
    "df['price_change'] = df['close']-df['open']\n",
    "# percent change\n",
    "df['price_change_pct'] = ((df['close'] - df['open']) / df['open']) * 100\n",
    "\n",
    "# difference between day's highest and lowest prices (volatility)\n",
    "df['daily_range'] = df['high'] - df['low']\n",
    "\n",
    "# difference (gap) between current and previous close prices\n",
    "df['prev_close'] = df.groupby('company')['close'].shift(1)\n",
    "df['gap'] = df['open'] - df['prev_close']\n",
    "\n",
    "# day/month/year\n",
    "df['day_of_week'] = df['date'].dt.day_name()\n",
    "df['month'] = df['date'].dt.month\n",
    "df['year'] = df['date'].dt.year\n"
   ]
  }
 ],
 "metadata": {
  "kernelspec": {
   "display_name": "Python [conda env:itcs3162]",
   "language": "python",
   "name": "conda-env-itcs3162-py"
  },
  "language_info": {
   "codemirror_mode": {
    "name": "ipython",
    "version": 3
   },
   "file_extension": ".py",
   "mimetype": "text/x-python",
   "name": "python",
   "nbconvert_exporter": "python",
   "pygments_lexer": "ipython3",
   "version": "3.12.8"
  }
 },
 "nbformat": 4,
 "nbformat_minor": 5
}
